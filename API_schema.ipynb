{
 "cells": [
  {
   "cell_type": "markdown",
   "id": "102285b5",
   "metadata": {},
   "source": [
    "# OpenSky Flight Data Schema\n",
    "\n",
    "| Index | Property         | Type     | Description |\n",
    "|-------|------------------|----------|-------------|\n",
    "| 0     | `icao24`         | string   | Unique ICAO 24-bit address of the transponder in hex string representation. |\n",
    "| 1     | `callsign`       | string   | Callsign of the vehicle (8 chars). Can be null if no callsign has been received. |\n",
    "| 2     | `origin_country` | string   | Country name inferred from the ICAO 24-bit address. |\n",
    "| 3     | `time_position`  | int      | Unix timestamp (seconds) for the last position update. Can be null. |\n",
    "| 4     | `last_contact`   | int      | Unix timestamp (seconds) for the last general update. |\n",
    "| 5     | `longitude`      | float    | WGS-84 longitude in decimal degrees. Can be null. |\n",
    "| 6     | `latitude`       | float    | WGS-84 latitude in decimal degrees. Can be null. |\n",
    "| 7     | `baro_altitude`  | float    | Barometric altitude in meters. Can be null. |\n",
    "| 8     | `on_ground`      | boolean  | Whether the position was retrieved from a surface report. |\n",
    "| 9     | `velocity`       | float    | Velocity over ground in m/s. Can be null. |\n",
    "| 10    | `true_track`     | float    | True track in decimal degrees clockwise from north. Can be null. |\n",
    "| 11    | `vertical_rate`  | float    | Climb/descent rate in m/s. Positive = climbing. Can be null. |\n",
    "| 12    | `sensors`        | int    | IDs of receivers contributing to the state vector. Null if no filter was used. |\n",
    "| 13    | `geo_altitude`   | float    | Geometric altitude in meters. Can be null. |\n",
    "| 14    | `squawk`         | string   | Transponder code (Squawk). Can be null. |\n",
    "| 15    | `spi`            | boolean  | Special Purpose Indicator status. |\n",
    "| 16    | `position_source`| int      | Origin of position. 0 = ADS-B, 1 = ASTERIX, 2 = MLAT, 3 = FLARM |\n",
    "| 17    | `category`       | int      | Aircraft category. See below. |\n",
    "\n",
    "## Aircraft Category Codes\n",
    "\n",
    "| Code | Category Description |\n",
    "|------|----------------------|\n",
    "| 0    | No information |\n",
    "| 1    | No ADS-B Emitter Info |\n",
    "| 2    | Light (< 15500 lbs) |\n",
    "| 3    | Small (15500–75000 lbs) |\n",
    "| 4    | Large (75000–300000 lbs) |\n",
    "| 5    | High Vortex Large (e.g., B-757) |\n",
    "| 6    | Heavy (> 300000 lbs) |\n",
    "| 7    | High Performance (> 5g, > 400 kts) |\n",
    "| 8    | Rotorcraft |\n",
    "| 9    | Glider/sailplane |\n",
    "| 10   | Lighter-than-air |\n",
    "| 11   | Parachutist/Skydiver |\n",
    "| 12   | Ultralight/hang-glider/paraglider |\n",
    "| 13   | Reserved |\n",
    "| 14   | UAV |\n",
    "| 15   | Space/Trans-atmospheric vehicle |\n",
    "| 16   | Surface Vehicle – Emergency |\n",
    "| 17   | Surface Vehicle – Service |\n",
    "| 18   | Point Obstacle |\n",
    "| 19   | Cluster Obstacle |\n",
    "| 20   | Line Obstacle |"
   ]
  },
  {
   "cell_type": "markdown",
   "id": "c3c0a3bd",
   "metadata": {},
   "source": []
  }
 ],
 "metadata": {
  "language_info": {
   "name": "python"
  }
 },
 "nbformat": 4,
 "nbformat_minor": 5
}
